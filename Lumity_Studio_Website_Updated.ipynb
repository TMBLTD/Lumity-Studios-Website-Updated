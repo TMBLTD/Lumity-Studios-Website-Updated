{
 "cells": [
  {
   "cell_type": "code",
   "execution_count": null,
   "metadata": {
    "vscode": {
     "languageId": "html"
    }
   },
   "outputs": [],
   "source": [
    "<!DOCTYPE html>\n",
    "<html lang=\"en\">\n",
    "<head>\n",
    "    <meta charset=\"UTF-8\">\n",
    "    <meta name=\"viewport\"\n",
    "content=\"width=device-width,\n",
    "inititial-scale=1.0\">\n",
    "       <title>Lumity Studios</title>\n",
    "    <link rel=\"stylesheet\"\n",
    "href=\"styles.css\">    \n",
    "</head>\n",
    "<body>\n",
    "     <h1>!We are hiring DM lovely_king to join the discord server!\n",
    "     <p>This is basic webpage.</p>\n",
    "     <script src=\"script.js\"></script>   \n",
    "</body>\n",
    "</html>                "
   ]
  },
  {
   "cell_type": "code",
   "execution_count": null,
   "metadata": {
    "vscode": {
     "languageId": "css"
    }
   },
   "outputs": [],
   "source": [
    "body {\n",
    "    font-family: Arial, sans-serif;\n",
    "    background-color: red;\n",
    "    margin: 0;\n",
    "    padding: 20px;\n",
    "    text-align: center;\n",
    "}\n",
    "\n",
    "h1 {\n",
    "    coler:#333\n",
    "}\n",
    "  \n",
    "p{\n",
    "    coler:#333\n",
    "}    "
   ]
  },
  {
   "cell_type": "code",
   "execution_count": null,
   "metadata": {
    "vscode": {
     "languageId": "javascript"
    }
   },
   "outputs": [],
   "source": [
    "document.addEventListener('DOMContentLoaded'), function() \n",
    "{}    \n",
    "console.log('The jobs: artist, animator, edittor, storyline artist');\n",
    "\n"
   ]
  }
 ],
 "metadata": {
  "language_info": {
   "name": "python"
  }
 },
 "nbformat": 4,
 "nbformat_minor": 2
}
